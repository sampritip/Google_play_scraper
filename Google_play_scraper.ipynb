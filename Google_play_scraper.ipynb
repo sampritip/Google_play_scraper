{
  "nbformat": 4,
  "nbformat_minor": 0,
  "metadata": {
    "colab": {
      "name": "Google_play_scraper.ipynb",
      "provenance": [],
      "collapsed_sections": [],
      "authorship_tag": "ABX9TyMXdRjiWnXnbCgC7gK5ZdC7",
      "include_colab_link": true
    },
    "kernelspec": {
      "name": "python3",
      "display_name": "Python 3"
    }
  },
  "cells": [
    {
      "cell_type": "markdown",
      "metadata": {
        "id": "view-in-github",
        "colab_type": "text"
      },
      "source": [
        "<a href=\"https://colab.research.google.com/github/sampritip/Google_play_scraper/blob/main/Google_play_scraper.ipynb\" target=\"_parent\"><img src=\"https://colab.research.google.com/assets/colab-badge.svg\" alt=\"Open In Colab\"/></a>"
      ]
    },
    {
      "cell_type": "markdown",
      "metadata": {
        "id": "x0Q_ypZ3dosN"
      },
      "source": [
        "Installing the package and its dependencies"
      ]
    },
    {
      "cell_type": "code",
      "metadata": {
        "colab": {
          "base_uri": "https://localhost:8080/"
        },
        "id": "BCPfsOiPc5tG",
        "outputId": "5e211178-2241-4815-cb01-d57c653f18ab"
      },
      "source": [
        "pip install google-play-scraper\r\n"
      ],
      "execution_count": null,
      "outputs": [
        {
          "output_type": "stream",
          "text": [
            "Collecting google-play-scraper\n",
            "\u001b[?25l  Downloading https://files.pythonhosted.org/packages/ac/de/87c97ba42c156e53f0eb67a2b68a13d6f77da98d24f6d52f70c631c8e526/google-play-scraper-0.1.2.tar.gz (49kB)\n",
            "\r\u001b[K     |██████▋                         | 10kB 17.2MB/s eta 0:00:01\r\u001b[K     |█████████████▎                  | 20kB 21.1MB/s eta 0:00:01\r\u001b[K     |████████████████████            | 30kB 10.9MB/s eta 0:00:01\r\u001b[K     |██████████████████████████▌     | 40kB 9.2MB/s eta 0:00:01\r\u001b[K     |████████████████████████████████| 51kB 2.7MB/s \n",
            "\u001b[?25hBuilding wheels for collected packages: google-play-scraper\n",
            "  Building wheel for google-play-scraper (setup.py) ... \u001b[?25l\u001b[?25hdone\n",
            "  Created wheel for google-play-scraper: filename=google_play_scraper-0.1.2-cp36-none-any.whl size=22280 sha256=373041f6c41d8a759b4e844142a7727d421c76140e98f7292ddb24da5483262f\n",
            "  Stored in directory: /root/.cache/pip/wheels/c3/0c/dc/847f7da787b7d2c28b26a5062f86eac3f16a8cb0bdfdc1f308\n",
            "Successfully built google-play-scraper\n",
            "Installing collected packages: google-play-scraper\n",
            "Successfully installed google-play-scraper-0.1.2\n"
          ],
          "name": "stdout"
        }
      ]
    },
    {
      "cell_type": "code",
      "metadata": {
        "id": "BPwIPSNNp4pS"
      },
      "source": [
        "import pandas as pd\r\n",
        "from pandas import ExcelWriter\r\n",
        "from pandas import ExcelFile"
      ],
      "execution_count": null,
      "outputs": []
    },
    {
      "cell_type": "code",
      "metadata": {
        "id": "V-D3VMMcdm32"
      },
      "source": [
        "from google_play_scraper import app\r\n",
        "df = pd.read_csv('urls.csv')\r\n",
        "#print(df.columns)\r\n",
        "urls = df['apps_url']\r\n",
        "#print(urls)\r\n",
        "\r\n",
        "for i in range(urls.size):\r\n",
        "   str = urls[0].split(\"id=\",1)\r\n",
        "   urls[0] = str[1]\r\n",
        "#print(urls[10])\r\n"
      ],
      "execution_count": null,
      "outputs": []
    },
    {
      "cell_type": "code",
      "metadata": {
        "colab": {
          "base_uri": "https://localhost:8080/"
        },
        "id": "E7WX4Xedr3uF",
        "outputId": "b8fa71d0-9f58-4b47-c2f3-beef59a98d84"
      },
      "source": [
        "print(urls[0])"
      ],
      "execution_count": null,
      "outputs": [
        {
          "output_type": "stream",
          "text": [
            "com.yatra.base\n"
          ],
          "name": "stdout"
        }
      ]
    },
    {
      "cell_type": "code",
      "metadata": {
        "colab": {
          "base_uri": "https://localhost:8080/"
        },
        "id": "PVAUyo0-3pG7",
        "outputId": "61b02c32-e6dd-4fb9-e567-61152e9d551c"
      },
      "source": [
        "result = app(\r\n",
        "    urls[0],\r\n",
        "    lang='en', # defaults to 'en'\r\n",
        "    country='us' # defaults to 'us'\r\n",
        "   )\r\n",
        "for key, value in result. items():\r\n",
        "    print(key, ' : ', value) \r\n"
      ],
      "execution_count": null,
      "outputs": [
        {
          "output_type": "stream",
          "text": [
            "title  :  Yatra - Flights, Hotels, Bus, Trains & Cabs\n",
            "description  :  India’s leading travel app - Yatra enables you to plan your travel without any hassles. With over 10 million downloads, Yatra has become the preferred choice for travellers to book flights, hotels, bus, cabs, trains, holiday packages and more.\r\n",
            "\r\n",
            "1. Flight Bookings\r\n",
            "    •    Search and book cheap flight tickets on Domestic and International Airlines\r\n",
            "    •    Book One-way/Round Trips through a single window display. View flight fares and enjoy special discounts with the Flight Booking App.\r\n",
            "    •    Get the best price on all Domestic Airlines and book flight tickets for Indigo, Spice Jet, Go Air, Air India, Air Asia, Air India Express, Vistara etc. Get flight deals while booking through Yatra mobile app.\r\n",
            "    •    Make cheap flight ticket booking for all International Airlines including British Airways, Virgin Atlantic, Lufthansa, Jet Airways, Emirates, Etihad, Singapore Airlines, Malaysian Airlines, Cathay Pacific. Get numerous flight offers with the online flight booking app.\r\n",
            "    •    You can modify your search directly on the search results page by selecting fresh dates on the airfare calendar through Yatra air ticket booking app\r\n",
            "    •    After successful flight ticket booking, view hotels at your chosen destination via the online hotel booking option\r\n",
            "•    Online payment for cheap flights and online hotel booking is conveniently and easily available through multiple ways on this travel app\r\n",
            "\r\n",
            "2. Hotel Bookings\r\n",
            "    •    Book hotels from a network of 70,000+ Domestic & 5,00,000+ International hotels\r\n",
            "    •    Enjoy great discounts on hotels with Yatra app\r\n",
            "    •    Search hotel rooms by city, area, hotel name, and filter them by star ratings, amenities, price, TripAdvisor rating, location etc.\r\n",
            "    •    Read user ratings and reviews before making a hotel booking\r\n",
            "    •    Check images of hotels and rooms along with their location on the map \r\n",
            "    •    Book premium, budget or cheap hotels on the Yatra app as per your choice, and pay directly at the hotel\r\n",
            "    •    Choose a hotel basis Free wifi, Free breakfast, Free Cancellation, Pay@hotel etc.\r\n",
            "•    Save your favourite hotels to a list and share it with your friends & family to plan your stay together\r\n",
            "\r\n",
            "3. Bus Bookings:\r\n",
            "    •    Search and book bus tickets from a wide network of bus operators that cover over 15,000 routes across India\r\n",
            "    •    Choose from different bus types - Seater, Sleeper, AC, Non-AC Deluxe, AC Volvo\r\n",
            "\r\n",
            "\r\n",
            "4. Cab Bookings:\r\n",
            "•    Book cab rides from 100+ cities across India\r\n",
            "•    Search and book Outstation and Hourly Cabs\r\n",
            "•    Book Self-drive Cars\r\n",
            "\r\n",
            "5. Book Holidays\r\n",
            "    •    Choose a holiday package from a range of Domestic & International packages\r\n",
            "    •    Explore holidays by theme - Hills stations, Beach, Adventure, Weekend trips, Luxury, Wildlife and more\r\n",
            "•    Select your travel plan and get a call back from our travel experts\r\n",
            "\r\n",
            "6. Train Bookings\r\n",
            "    •    Search & book Indian Railways train tickets\r\n",
            "    •    Check PNR status, train running status and more with the Yatra app\r\n",
            "    •    Use eCash on train bookings and save money\r\n",
            "•    IRCTC officially authorises Yatra app for train bookings \r\n",
            "\r\n",
            "7. SME Bookings\r\n",
            " •   Book cheap flights with Yatra SME App\r\n",
            " •   Low or nil cancellation on flights and hotels\r\n",
            " •   Avail special rates on bus and train bookings with SME App\r\n",
            "\r\n",
            "8. E-tickets for Monuments\r\n",
            "Book online tickets to 178 heritage monuments of India using Yatra App\r\n",
            "\r\n",
            "7. My Bookings\r\n",
            "    •    Save your travel plans in My Bookings. You can view them later in offline mode.\r\n",
            "    •    Get booking details, request e-tickets and other travel details via SMS\r\n",
            "•    Add your tickets to Passbook, and opt for eco-friendly and smart travel\r\n",
            "\r\n",
            "8. More in store for you!\r\n",
            "    •    Redeem Yatra eCash on your travel bookings\r\n",
            "    •    Refer the app to your friends & earn eCash\r\n",
            "\r\n",
            "Write to us for any queries/suggestions at apps@yatra.com.\n",
            "descriptionHTML  :  India’s leading travel app - Yatra enables you to plan your travel without any hassles. With over 10 million downloads, Yatra has become the preferred choice for travellers to book flights, hotels, bus, cabs, trains, holiday packages and more.<br><br>1. Flight Bookings<br>    •    Search and book cheap flight tickets on Domestic and International Airlines<br>    •    Book One-way/Round Trips through a single window display. View flight fares and enjoy special discounts with the Flight Booking App.<br>    •    Get the best price on all Domestic Airlines and book flight tickets for Indigo, Spice Jet, Go Air, Air India, Air Asia, Air India Express, Vistara etc. Get flight deals while booking through Yatra mobile app.<br>    •    Make cheap flight ticket booking for all International Airlines including British Airways, Virgin Atlantic, Lufthansa, Jet Airways, Emirates, Etihad, Singapore Airlines, Malaysian Airlines, Cathay Pacific. Get numerous flight offers with the online flight booking app.<br>    •    You can modify your search directly on the search results page by selecting fresh dates on the airfare calendar through Yatra air ticket booking app<br>    •    After successful flight ticket booking, view hotels at your chosen destination via the online hotel booking option<br>•    Online payment for cheap flights and online hotel booking is conveniently and easily available through multiple ways on this travel app<br><br>2. Hotel Bookings<br>    •    Book hotels from a network of 70,000+ Domestic &amp; 5,00,000+ International hotels<br>    •    Enjoy great discounts on hotels with Yatra app<br>    •    Search hotel rooms by city, area, hotel name, and filter them by star ratings, amenities, price, TripAdvisor rating, location etc.<br>    •    Read user ratings and reviews before making a hotel booking<br>    •    Check images of hotels and rooms along with their location on the map <br>    •    Book premium, budget or cheap hotels on the Yatra app as per your choice, and pay directly at the hotel<br>    •    Choose a hotel basis Free wifi, Free breakfast, Free Cancellation, Pay@hotel etc.<br>•    Save your favourite hotels to a list and share it with your friends &amp; family to plan your stay together<br><br>3. Bus Bookings:<br>    •    Search and book bus tickets from a wide network of bus operators that cover over 15,000 routes across India<br>    •    Choose from different bus types - Seater, Sleeper, AC, Non-AC Deluxe, AC Volvo<br><br><br>4. Cab Bookings:<br>•    Book cab rides from 100+ cities across India<br>•    Search and book Outstation and Hourly Cabs<br>•    Book Self-drive Cars<br><br>5. Book Holidays<br>    •    Choose a holiday package from a range of Domestic &amp; International packages<br>    •    Explore holidays by theme - Hills stations, Beach, Adventure, Weekend trips, Luxury, Wildlife and more<br>•    Select your travel plan and get a call back from our travel experts<br><br>6. Train Bookings<br>    •    Search &amp; book Indian Railways train tickets<br>    •    Check PNR status, train running status and more with the Yatra app<br>    •    Use eCash on train bookings and save money<br>•    IRCTC officially authorises Yatra app for train bookings <br><br>7. SME Bookings<br> •   Book cheap flights with Yatra SME App<br> •   Low or nil cancellation on flights and hotels<br> •   Avail special rates on bus and train bookings with SME App<br><br>8. E-tickets for Monuments<br>Book online tickets to 178 heritage monuments of India using Yatra App<br><br>7. My Bookings<br>    •    Save your travel plans in My Bookings. You can view them later in offline mode.<br>    •    Get booking details, request e-tickets and other travel details via SMS<br>•    Add your tickets to Passbook, and opt for eco-friendly and smart travel<br><br>8. More in store for you!<br>    •    Redeem Yatra eCash on your travel bookings<br>    •    Refer the app to your friends &amp; earn eCash<br><br>Write to us for any queries/suggestions at apps@yatra.com.\n",
            "summary  :  Your trusted travel app to make Flight, Hotel, Bus,Cab & IRCTC Train bookings.\n",
            "summaryHTML  :  Your trusted travel app to make Flight, Hotel, Bus,Cab &amp; IRCTC Train bookings.\n",
            "installs  :  10,000,000+\n",
            "minInstalls  :  10000000\n",
            "score  :  4.257695\n",
            "ratings  :  297832\n",
            "reviews  :  98859\n",
            "histogram  :  [34100, 4195, 11459, 49177, 198901]\n",
            "price  :  0\n",
            "free  :  True\n",
            "currency  :  USD\n",
            "sale  :  False\n",
            "saleTime  :  None\n",
            "originalPrice  :  None\n",
            "saleText  :  None\n",
            "offersIAP  :  False\n",
            "inAppProductPrice  :  None\n",
            "size  :  26M\n",
            "androidVersion  :  5.0\n",
            "androidVersionText  :  5.0 and up\n",
            "developer  :  Yatra.com\n",
            "developerId  :  6391774274796490404\n",
            "developerEmail  :  apps@yatra.com\n",
            "developerWebsite  :  http://www.yatra.com\n",
            "developerAddress  :  None\n",
            "privacyPolicy  :  http://www.yatra.com/privacy-policy.html\n",
            "developerInternalID  :  6391774274796490404\n",
            "genre  :  Travel & Local\n",
            "genreId  :  TRAVEL_AND_LOCAL\n",
            "icon  :  https://play-lh.googleusercontent.com/y7dgnim86HoE4LgjChguLbohs-h8OyJRz_StVX717JXDhVBtd5phMtuEDCfZrBAjlUc\n",
            "headerImage  :  https://play-lh.googleusercontent.com/JXTmHbgfIXpLYY2N_cMlGYBf12TCVYfnWyaWVWeGPTCal8z34qZ2F602PXfHRzwJ7Vw\n",
            "screenshots  :  ['https://play-lh.googleusercontent.com/9Yqw0Rg71ufRH6e-vLnDu8VHlqhw-lvzE4mUaKYemovpDuv2ZYrbCexdh41TkS2Hmg', 'https://play-lh.googleusercontent.com/GS6UbzYpcsVUfBEVPa6lNH4vZx9s9Woijyl0Sp_L8Ok1hXwqhy2tpTXk5v5QEm_Q9z8', 'https://play-lh.googleusercontent.com/46htTM_Ng9jTe6YWLg324FUl3iHyYJPmbKB-_ZOZksYYjXtOmz6Y9PsWXJC3of2jLFdR', 'https://play-lh.googleusercontent.com/0sW2W9EAMFjEEMSF6xhYnzLla4StBW4y7Muc0GSC6HgbWpB1IQkqBS2dFa1OuyZwFhw', 'https://play-lh.googleusercontent.com/jjPfOdJ9SgQKhhjgxrdeJM_KMnwenW33Eaaa3L4_Dxk3Hx3ypDvhKmTwIC1TjRpqHmAC', 'https://play-lh.googleusercontent.com/ojZI8339ePPYem8-WDLPNp-8zY6jl7Y5laZvTSsNXLGIUcB5Fmhe2uN-JgmjwMmivS_5', 'https://play-lh.googleusercontent.com/qk0PUrSMhH5mRqrzBIhOdjp2qLXR7O3GCYi3znvZq36H8L2OmFPB0dYquWl-kCr7-jE', 'https://play-lh.googleusercontent.com/aaFKsrMECXKAE1bmv21TkxEFhPLIAM6Tz4drRcY4Y0mVNrF6nCv4fuLV_ZvDEqJjew', 'https://play-lh.googleusercontent.com/WKoOLtPrXruw4itx4ffSqxnDLT8hEgHolXZ8M7WScLXZDNKBGshFAA5ASnF2MQjaR2U', 'https://play-lh.googleusercontent.com/_LPoxBOx-Nkav-NihBuDp5azhq0f7ivFkz4f4xOrhZSp0f-GRzaaER_Pw77-AgF4ojO1', 'https://play-lh.googleusercontent.com/feL7D_YJuOiLBIeQhEzBroxR1j3oqx1I3-JhtK-wUqoZvAH3K7XCwUHTi0ZyW6nfRCDy', 'https://play-lh.googleusercontent.com/JevP4tqNAqGZ3Pg9i9dQOlOQSKy07ZcR0_HO1vBCKWH1uuaSn8gbL8xvpSimN9uEsa4', 'https://play-lh.googleusercontent.com/e6qiPVqjrAXCAAxaF-WcnYzfrPLJL8FrEg-1XjDipMqhp02ByWz8uGHy3XDx7O1ozBE', 'https://play-lh.googleusercontent.com/Kcvkzd7xBNqAakiqo2-T0gEFAvimvbOM4A_CmNxZYg5H7pKDNvjPPscOECqtBzEvz2o', 'https://play-lh.googleusercontent.com/TrtfrVIKMZgIeZ-Xf8aYQ0SDGxIcQSn9xY5QhpIc_9d0Sg37ecc1ejm5l7LhryqmSGkw', 'https://play-lh.googleusercontent.com/KJGJ6utZvrJ7bWO379A4y8oYZGThIXtE4ALl9VwnZSoRvFR6kqK66GYEVdROnDS20w']\n",
            "video  :  None\n",
            "videoImage  :  None\n",
            "contentRating  :  Everyone\n",
            "contentRatingDescription  :  None\n",
            "adSupported  :  None\n",
            "containsAds  :  False\n",
            "released  :  Sep 26, 2013\n",
            "updated  :  1607352836\n",
            "version  :  13.1.28\n",
            "recentChanges  :  - Minor bugs fixes and UI enhancements\n",
            "recentChangesHTML  :  - Minor bugs fixes and UI enhancements\n",
            "comments  :  [\"Don't use this app...! I had booked a bus in yathra, when I tried to contact the bus operator a day before my journey the operator said the bus has been cancelled but I didn't get any confirmation mail/msg. Even on the day of journey I dint get bus details and I waited in stop for more than 2 hours. The operator also didn't respond and in this app it shows the journey is completed. No response from yathra even after sending mails. So don't use this app to book, you might end up in going nowhere.\", \"Worst app. I tried to book a hotel from this app and also paid for the money and then they showed me that the payment got failed and didn't get any booking confirmation. But my money was gone because from my end the payment was successful. Then when i tried to reach them via their customer support & mails they didn't even respond to any of that. This is total scam to loot people.\", 'I booked a flight for 10th December 2020 but the flight has been cancelled by the airline. Now I wanted a refund of the same. I have directly filed for refund of the same with the airlines and they are saying that now the refund will be processed from your side. I have send 2 emails and contacted through the chat support system but no one contacted me till now the flight is scheduled for tomorrow and nothing is working so that I can cancel my ticket', \"Pathetic experience... I wanted to cancel a twoway air ticket and while booking it showed partially refundable.. however while i was trying to cancel this (airlines usually charge high cancellation amount) but yatra just took all the remaining amount in the name of cancellation charges from yatra's side ... So i wont get any single rupee .... NEVER EVER DOW LOAD THIS APP.. GO FOR SOME APPS LIKE GOIBIBO OR SOMETHING.. THESE PPL ARE A BUNCH OF GREEDY PEOPLE...\", 'My experience was same as many others. I booked my flight tickets from this app and later it is been canceled by airline. When I contacted airline they said they already refunded the money to yatra but no response from yatra. There is no customer care number to contact. No response from support mail. I am afraid if my money gone for ever. Regretting using this app.', 'I have been a prominent user of yatra for them being fast and giving good discounts. But my latest experience has shattered all my interest in yatra. There is nobody to talk to via customer care even the number on Google for them is not existent. I wrote them an email which was never attended but the status on the app shows resolved. I would recomend a better platform like make my trip to all the users since they atleast listen to our concerns and value our money. Please improvise yatra.', 'This is the fraud app. I have made the booking on 20th Nov. They have deducted the advance now it is not showing. I m so bothered. No contact number available. Not resolving my issue. No refund I got. This is totally worst app I ever had', \"Nonsense application.. I'm cancelling my flight ticket but refund not initiate in my account. I contact the customer care of Indigo this said they already refund Yatra when I initiate for refund process. They said u will received ur refund 48 hours.. after 5 days still I'm not received my refund.. whn I try to contact customer care , there is no valid number for talking to customer support team.. it's horrible.\", \"Worst experience. My ticket got cancelled in the month of April and it's December now I haven't got my refund. No customer care number don't know how to contact them. Every mail have same reply refund is initiated from our end. Return my money\", 'I came to give review because my money was debited but no booking confirmation. I see lots of reviews by others with same issue. Worst part is there is no customer care number whom you can contact. I am scared now if my money is lost forever, please dont use this app, you will get sleepless nights.', \"Disgusting Service. I booked my ticket and they don't know that the flight is rescheduled. They won't even refund you. I am opening saying that I may put a case on them for treating the customers this way. I am student and this is highly inappropriate because I need to reach on time on the desired location. Not at all trustworthy. Better to book from other apps.\", \"Yatra should change it's name to Fraud app. I had a very bad experience, I booked 2 flight tickets worth 5k and somehow had to change my plan. The amount they could settle for my reschedule was just 300rs! And the cancellation refund was 0rs! The app doesn't even have a contact number to call them, that shows the kind of fraud they are into. Fyi I tried to reschedule/cancel my tickets before 3 months of the journey!!!!!\", 'Really worst service i have booked my ticket payment also dedicated but ticket not booked even that money is not coming in our acount it will go ti to yata wallet. It means they want us forcely to book ticket from yatra. Really very bed experience.', 'Very bad experience. I booked a bus ticket through this app. Money got debited from my account, but the ticket was not booked. I tried to reach their customer care, no number was working.', 'Be cautious, If your bus got cancelled by operator. They will not refund your money . It happens two times with me. I wrote several mails to them but they are not even replying. Very unprofessional.', \"I didn't my receive my cash back and there is no proper support where you can raise issue. The chat bot is use less in terms of cashback issue and there is no telephonic channel. So the last option is mail ,to which they don't reply.\", 'No Customer support. Hotel booking transaction was failed and amount debited from my account. But, i am not able to reach their customer support for the last 4 days.', \"I've booked a hotel is called Hotel mamoni group at digha. But when I called to hotel they said they don't accept the booking of Yatra and they aren't tie up with Yatra. I want my money back as early as possible.  It wasn't accepted.\", 'I had a problem after booking a hotel. It was not confirmed whereas my payment was debited. The supportive people of Yatra took responsibility and solved my issue within 2-3hrs by confirming my hotel. Thank you Yatra..', \"It's been more than a month still I didn't receive my refund as my flight was cancelled just got a mail that I will get my money by 7 12 working days. Now it's been a month no email no replies from there support team.\", 'Most of the resort s are booked for marriages and yatra dose not have any communication on this.., during November we have booked for dreamvally resort and once we reach the resort they failed to give is booked room as the complete resort is booked for multiple marriages, and funny part is once the check-in time is crossed ... You can not cancel the booking nor none of the yatra customer care numbers working.. so you will not get the money back.... Keep all these thing in your mind', 'After latest update the app gets crashed each time I open.Uninstalled and reinstalled,still the same problem.', 'Very poor customer service. Have been trying to contact the customer care for the cancellation of a flight (rescheduled by the airline) but there has been no response from their end. Will never suggest anyone to use this app. They dont have a legit customer support system. The bot is of no help. And they hardly reply to your mail.', 'Worst customer service ever. Their payments interface is a complete mess, and 90% of the time it doesn\\'t even redirect to a success page even after payment is deducted. I paid for a room twice while booking on the spot because I didn\\'t get any notification/email during the first time for 15 mins or so. I didn\\'t use the other room, and tried contacting the Support, but there\\'s literally zero \"support\" from them. They take one week to reply to an email with a generic response. Never using Yatra!', 'My first bus booking experience was very bad, nothing was of any use, neither one was operational nor charging point The timing of 11.55pm arrives at 1.00am Very sad with your service I waste my time and money Dear Passenger, Bus Journey details from Karad to Mumbai on 17/11/2020 are PNR: 208314, Seat No: L13, Reporting Time: 11:40 PM, Boarding: Below Bridge Opp Sangam Hotel, Address: Below Bridge Opp Sangam Hotel, Service No. Ich-Dadar-CST 9:15 Pm (Sanjay Travels), Bus No: MH 09CA0003, Driver', \"Very bad app. Yatra does not give any number to talk to them in case of any problem. If you call their customer care number then call will not connect. You have to talk to them through mail only. I cancelled one ticket because flight diverted. Yatra told I will get refund within 15 days. It has been more than 21 days but they didn't give me refund.\", 'I had booked the room and i paid but the booking was not conformed and the amount was deducted from my bank. There is no customer support. I want my refund but they are not replying any of my mails and calls. Worst app loss of 6000', 'Very very worst application.They are taking money from us for booking but we will not provide any tickets or any reference number of our payment .If we tried for a refund there will not be any support or contact details Updates , 1.Getting reply from yatra is a big task . 2.1st they will denay our payment then after continues follow up they will confirm 3.Even after ur refund process it will not credited back after 10 days working 4.No replay can expect from yatra after that . 5.lost is lost ..', 'The app keeps crashing and unable to perform any action. Tried updating to the latest but still no response on the app.', \"Pathetic customer support. It's been seven months, we haven't received a single response for our bookings. They have disabled all the channels to reach out to them except the email. Have not recieved any response from CS for my email sent to them. They are sitting on our money for 7 months though airlines have refunded the money they won't, and neither would tell us when will that be available to us. STAY AWAY FROM THEM.\", 'Most annoying experience with any application on play store. More than six months has been passed from the date of cancellation of flight due to lockdown but they are not taking a single baby step to refund my money even if airline has refunded them the full money. No customer support no. No reply of emails, no reply of tweets and dms.', \"Seems they have defaulted. Don't recommend anybody to use this app for booking tickets. They cancelled my flight ticket and have not provided refund for the same. Getting no response from customer care team on Email, twitter etc.\", \"Service became so poor. No contact Number for Customers Care. They won't reply to email . I have sent more than 15 times . Your money will be debited and you won't be having any information regarding ticket. I am uninstalling this App and suggesting people not to use. Go for EaseMyTrip. This application is too good and their customer service is fabulous.\", \"Very poor app no customer service or customer care number available, while booking my ticket I selected wrong source and destination , tried contacting yatra through mails messages but no response. Even when your booking is successful you don't get any proper guidance from this app\", \"I insist everyone please do not book any hotel from this site ,coz after booking if you go for cancelation they don't have give any refund ,even after full payment done...and more over they dont have customer care to whom you can do conversation and solve your issue..and top of all thay don't respond your chats , email nothing. So if you are going to book through yatra please rethink thousand times.\", 'Twice I tried booking , payment got deducted twice , then stuck in the payment page over 5 mins , no booking confirmation. I am trying since yesterday night , same issue ,now price increases !! Very inconvenient.', 'Horrible non-existent service. Hotel rejected booking via Yatra. Impossible to get response from customer care.', \"Worst experience ever. I haven't received my refund yet from past 6 months . My flight has been cancelled due to lockdown and from that time till know its showing that your money will be transferred to your bank account in 48 hours. And coming to there customer service its worst , they event don't reply there customers till one month.\", \"App is closing on it's own from last few weeks and it does not work at all even after updating and re installing\", \"I complained here few days back about the refund issue I had. That my flight got cancelled by the airline in march and I still have not received any refund. I was given a receipt that I will receive the full refund from the airport.. I sent them an email but nobody responded. So I came here at play store. Here I got an response to contact them which I did. But still I am not getting any response.... So I am again writing this review. Don't ignore...\"]\n",
            "editorsChoice  :  False\n",
            "appId  :  com.yatra.base\n",
            "url  :  https://play.google.com/store/apps/details?id=com.yatra.base&hl=en&gl=us\n"
          ],
          "name": "stdout"
        }
      ]
    },
    {
      "cell_type": "code",
      "metadata": {
        "id": "zH4erdA3qsVQ"
      },
      "source": [
        "\r\n",
        "import csv\r\n",
        "with open('output.csv', 'w', newline='') as file:\r\n",
        "  fieldnames=['title','score','ratings','reviews','comments']\r\n",
        "  writer = csv.DictWriter(file, fieldnames=fieldnames)\r\n",
        "  writer.writeheader()\r\n",
        "  for url in urls:\r\n",
        "   result = app(\r\n",
        "    url,\r\n",
        "    lang='en', # defaults to 'en'\r\n",
        "    country='us' # defaults to 'us'\r\n",
        "   )   \r\n",
        "   details = {\r\n",
        "    key:result[key] for key in result.keys() &{'title','score','ratings','reviews','comments'}\r\n",
        "   }\r\n",
        "   writer.writerow({\r\n",
        "       'title':details['title'],\r\n",
        "       'score':details['score'],\r\n",
        "       'ratings':details['ratings'],\r\n",
        "       'reviews':details['reviews'],\r\n",
        "       'comments':details['comments'],\r\n",
        "\r\n",
        "   })\r\n",
        "   \r\n",
        "    \r\n",
        "   \r\n",
        "\r\n",
        "\r\n"
      ],
      "execution_count": null,
      "outputs": []
    },
    {
      "cell_type": "code",
      "metadata": {
        "id": "e8CjhB_qyN_N"
      },
      "source": [
        ""
      ],
      "execution_count": null,
      "outputs": []
    }
  ]
}